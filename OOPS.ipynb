{
 "cells": [
  {
   "cell_type": "markdown",
   "id": "335d0e07-0da7-4d07-b3f8-db95b4d4702c",
   "metadata": {},
   "source": [
    "Q1. Explain Class and Object with respect to Object-Oriented Programming. Give a suitable example."
   ]
  },
  {
   "cell_type": "code",
   "execution_count": 2,
   "id": "d9f04c23-50c1-4334-a9d2-fd9f6eea9a22",
   "metadata": {},
   "outputs": [
    {
     "name": "stdout",
     "output_type": "stream",
     "text": [
      "Toyotocarr(2002)\n",
      "MercedsEC200(2023)\n",
      "Toyotocarr2002 is now running\n",
      "Toyotocarr2002 stopped\n",
      "MercedsEC2002023 is now running\n",
      "MercedsEC2002023 stopped\n"
     ]
    }
   ],
   "source": [
    "#Class is a design or blueprint to create object \n",
    "#object is an instance of class\n",
    "\n",
    "\n",
    "#solve real world issue =>\n",
    "#recod video = need camera so camera here is object -> object\n",
    "#for running comapny=> employeee -> employee is object \n",
    "\n",
    "#every object has attribute n behaviour\n",
    "#attr=> data => for x person => attributes are name, age\n",
    "#behaviour=> actions => eating , walking\n",
    "\n",
    "#all objects => made up of class\n",
    "\n",
    "#design =? class =>\n",
    "#objects=> real stuff => entity\n",
    "\n",
    "#class is a design or blueprint for object\n",
    "\n",
    "#class Computer:\n",
    "  #attributes->var\n",
    "  #behaviour-> methods(functions)\n",
    "\n",
    "  #def config(self):\n",
    "    #print(\"i5\")\n",
    "\n",
    "\n",
    "\n",
    "class car:\n",
    "    def __init__(self, make, model, year):\n",
    "        self.make=make\n",
    "        self.model=model\n",
    "        self.year=year \n",
    "        self.is_running=False \n",
    "        \n",
    "    def start(self):\n",
    "        self.isrunning=True \n",
    "        print(f\"{self.make}{self.model}{self.year} is now running\")\n",
    "    \n",
    "    def stop(self):\n",
    "              self.is_running=False\n",
    "              print(f\"{self.make}{self.model}{self.year} stopped\")\n",
    "                \n",
    "                \n",
    "car1=car(\"Toyoto\", \"carr\", 2002)\n",
    "car2=car(\"Merceds\", \"EC200\", 2023)\n",
    "\n",
    "print(f\"{car1.make}{car1.model}({car1.year})\")\n",
    "print(f\"{car2.make}{car2.model}({car2.year})\")\n",
    "                    \n",
    "    \n",
    "    \n",
    "car1.start()\n",
    "car1.stop()\n",
    "car2.start()\n",
    "car2.stop()\n",
    "              \n",
    "        "
   ]
  },
  {
   "cell_type": "markdown",
   "id": "50d4e033-bf1b-4515-a151-51d59273e190",
   "metadata": {},
   "source": [
    "Q2. Name the four pillars of OOPs."
   ]
  },
  {
   "cell_type": "markdown",
   "id": "aff703a8-fa78-4250-9f89-b723c1bee3e4",
   "metadata": {},
   "source": [
    "1. POLYMORPHISM\n",
    "2.ENCAPSULATION\n",
    "3.ABSTRACTION\n",
    "4.INHERITANCE"
   ]
  },
  {
   "cell_type": "markdown",
   "id": "de155c45-30f0-4008-a915-d43ff80455a0",
   "metadata": {},
   "source": [
    "Q3. Explain why the __init__() function is used. Give a suitable example."
   ]
  },
  {
   "cell_type": "markdown",
   "id": "0356743b-d9e2-43af-9a3d-fa430e7db837",
   "metadata": {},
   "source": [
    " The __init__  function is called every time an object is created from a class. The __init__ method let the to class initialize the object’s attributes and serves no other purpose. It is only used within classes. \n",
    " \n",
    "\n",
    "\n"
   ]
  },
  {
   "cell_type": "code",
   "execution_count": 5,
   "id": "00266141-59d8-4878-80ed-11c1d7cf79a9",
   "metadata": {},
   "outputs": [
    {
     "name": "stdout",
     "output_type": "stream",
     "text": [
      "Name: Buddy\n",
      "Age: 3\n",
      "Breed: Labrador\n",
      "Buddy is barking!\n",
      "Buddy has stopped barking.\n"
     ]
    }
   ],
   "source": [
    "#example\n",
    "class Dog:\n",
    "    def __init__(self, name, age, breed):\n",
    "        self.name = name\n",
    "        self.age = age\n",
    "        self.breed = breed\n",
    "        self.is_barking = False\n",
    "\n",
    "    def bark(self):\n",
    "        self.is_barking = True\n",
    "        print(f\"{self.name} is barking!\")\n",
    "\n",
    "    def stop_barking(self):\n",
    "        self.is_barking = False\n",
    "        print(f\"{self.name} has stopped barking.\")\n",
    "\n",
    "\n",
    "\n",
    "dog1 = Dog(name=\"Buddy\", age=3, breed=\"Labrador\")\n",
    "\n",
    "print(f\"Name: {dog1.name}\")\n",
    "print(f\"Age: {dog1.age}\")\n",
    "print(f\"Breed: {dog1.breed}\")\n",
    "\n",
    "dog1.bark()\n",
    "dog1.stop_barking()\n"
   ]
  },
  {
   "cell_type": "markdown",
   "id": "7b022393-4635-48cf-a0ad-645e22487549",
   "metadata": {},
   "source": [
    "Q.4What is inheritance? Give an example for each type of inheritance."
   ]
  },
  {
   "cell_type": "markdown",
   "id": "7bcca9fd-4805-4e60-ada3-abc3b9bcc3cc",
   "metadata": {},
   "source": [
    "Inheritance is the mechanism to inherit the properties of parent class as well as contain the features of the exisiting class as well"
   ]
  },
  {
   "cell_type": "code",
   "execution_count": null,
   "id": "f1d2fad0-d2f9-471b-8b27-57c6194fb4ed",
   "metadata": {},
   "outputs": [],
   "source": [
    "Type of Inheritance :\n",
    "    Single level inheritance \n",
    "    Multiple level inheritance \n",
    "    Multilevel inheritance"
   ]
  },
  {
   "cell_type": "markdown",
   "id": "2695a73c-5dff-48b8-a569-608e99168793",
   "metadata": {},
   "source": [
    "Q. 4 > WHY SELF USE IN OOPS?\n",
    "\n",
    "he purpose of self is to allow instance methods to access and manipulate the attributes and methods of the specific instance on which the method is called."
   ]
  },
  {
   "cell_type": "code",
   "execution_count": 3,
   "id": "639b88cd-b282-4147-9ace-4d76ec7fd09a",
   "metadata": {},
   "outputs": [
    {
     "name": "stdout",
     "output_type": "stream",
     "text": [
      "this is function 1\n"
     ]
    }
   ],
   "source": [
    "#SINGLE LEVEL INHERITANCE \n",
    "class Parent :\n",
    "    def func1(self):\n",
    "        print(\"this is function 1\")\n",
    "        \n",
    "class Child(Parent):\n",
    "    def func2(self):\n",
    "        print(\"this is function 2\")\n",
    "        \n",
    "ob=Child()\n",
    "ob.func1()\n",
    "\n"
   ]
  },
  {
   "cell_type": "code",
   "execution_count": 9,
   "id": "2387d8dc-7d67-47ee-a577-f795426e9329",
   "metadata": {},
   "outputs": [
    {
     "name": "stdout",
     "output_type": "stream",
     "text": [
      "this is function 1\n",
      "this is function 3\n"
     ]
    }
   ],
   "source": [
    "#MULTIPLE LEVEL INHERITANCE \n",
    "\n",
    "class Parent :\n",
    "    def func1(self):\n",
    "        print(\"this is function 1\")\n",
    "        \n",
    "class Parent2:\n",
    "    def func3(self):\n",
    "        print(\"this is function 3\")\n",
    "        \n",
    "class Child(Parent, Parent2):\n",
    "    def func2(self):\n",
    "        print(\"this is function 2\")\n",
    "              \n",
    "        \n",
    "ob=Child() \n",
    "ob.func1()\n",
    "ob.func3()\n",
    "\n",
    "\n",
    "\n",
    "\n"
   ]
  },
  {
   "cell_type": "code",
   "execution_count": 10,
   "id": "dd8fc1dc-51e1-4767-9505-ace3ea29dc0e",
   "metadata": {},
   "outputs": [
    {
     "name": "stdout",
     "output_type": "stream",
     "text": [
      "this is function 1\n",
      "this is function 3\n"
     ]
    }
   ],
   "source": [
    "#MULTI LEVEL INHERITANCE \n",
    "class Parent :\n",
    "    def func1(self):\n",
    "        print(\"this is function 1\")\n",
    "        \n",
    "class Parent2(Parent):\n",
    "    def func3(self):\n",
    "        print(\"this is function 3\")\n",
    "        \n",
    "class Child(Parent2):\n",
    "    def func2(self):\n",
    "        print(\"this is function 2\")\n",
    "              \n",
    "        \n",
    "ob=Child() \n",
    "ob.func1()\n",
    "ob.func3()\n"
   ]
  },
  {
   "cell_type": "code",
   "execution_count": 11,
   "id": "ae4b3317-7d2e-4047-b7cf-5a69c8a3495d",
   "metadata": {},
   "outputs": [
    {
     "name": "stdout",
     "output_type": "stream",
     "text": [
      "this is function 1\n",
      "this is function 3\n"
     ]
    }
   ],
   "source": [
    "#Multilevel inheritance :\n",
    "class Parent:\n",
    "    def func1(self):\n",
    "        print(\"this is function 1\")\n",
    "        \n",
    "class Parent2(Parent):\n",
    "    def func3(self):\n",
    "        print(\"this is function 3\")\n",
    "        \n",
    "class Child(Parent2):\n",
    "    def func2(self):\n",
    "        print(\"this is function 2\")\n",
    "              \n",
    "        \n",
    "ob=Child() \n",
    "ob.func1()\n",
    "ob.func3()\n"
   ]
  },
  {
   "cell_type": "code",
   "execution_count": null,
   "id": "1659d950-3c7b-404a-a34c-a4c25cb914bb",
   "metadata": {},
   "outputs": [],
   "source": [
    "\n",
    "\n",
    "    "
   ]
  },
  {
   "cell_type": "code",
   "execution_count": null,
   "id": "89f27766-336f-43c9-b1f8-a6680e14758d",
   "metadata": {},
   "outputs": [],
   "source": [
    "\n",
    "\n"
   ]
  },
  {
   "cell_type": "code",
   "execution_count": null,
   "id": "b1edb2cb-562b-4119-a9d9-8dd405eb0a97",
   "metadata": {},
   "outputs": [],
   "source": []
  }
 ],
 "metadata": {
  "kernelspec": {
   "display_name": "Python 3 (ipykernel)",
   "language": "python",
   "name": "python3"
  },
  "language_info": {
   "codemirror_mode": {
    "name": "ipython",
    "version": 3
   },
   "file_extension": ".py",
   "mimetype": "text/x-python",
   "name": "python",
   "nbconvert_exporter": "python",
   "pygments_lexer": "ipython3",
   "version": "3.10.8"
  }
 },
 "nbformat": 4,
 "nbformat_minor": 5
}
