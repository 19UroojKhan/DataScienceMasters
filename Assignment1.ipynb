{
 "cells": [
  {
   "cell_type": "markdown",
   "id": "808c4baa-3f01-4fcc-b282-ca341baf041d",
   "metadata": {},
   "source": [
    "Solution 1\n"
   ]
  },
  {
   "cell_type": "code",
   "execution_count": 2,
   "id": "8788aedf-8bf0-43ee-bc44-1ae3a36e4f11",
   "metadata": {},
   "outputs": [
    {
     "name": "stdout",
     "output_type": "stream",
     "text": [
      "hello world\n"
     ]
    }
   ],
   "source": [
    "s=\"hello world\"\n",
    "print(s)"
   ]
  },
  {
   "cell_type": "code",
   "execution_count": 3,
   "id": "00197f24-a672-4665-8435-54a780e060bc",
   "metadata": {},
   "outputs": [
    {
     "name": "stdout",
     "output_type": "stream",
     "text": [
      "['apple', 'mango', 'banana', 'kiwi']\n"
     ]
    }
   ],
   "source": [
    "a=['apple', 'mango', 'banana', 'kiwi']\n",
    "print(a)"
   ]
  },
  {
   "cell_type": "code",
   "execution_count": 4,
   "id": "1c0a8beb-afaa-481c-9ccc-ff42c09f696e",
   "metadata": {},
   "outputs": [
    {
     "name": "stdout",
     "output_type": "stream",
     "text": [
      "10.5\n"
     ]
    }
   ],
   "source": [
    "c=10.5\n",
    "print(c)"
   ]
  },
  {
   "cell_type": "code",
   "execution_count": 5,
   "id": "d95f41af-622b-4c8c-8ae8-6ffc97efddf9",
   "metadata": {},
   "outputs": [
    {
     "name": "stdout",
     "output_type": "stream",
     "text": [
      "(6, 7, 8, 9, 10)\n"
     ]
    }
   ],
   "source": [
    "d=(6,7,8,9,10)\n",
    "print(d)"
   ]
  },
  {
   "cell_type": "markdown",
   "id": "a75a2378-4dfc-43b7-87bd-8adac72c45b0",
   "metadata": {},
   "source": [
    "Solution 2\n"
   ]
  },
  {
   "cell_type": "markdown",
   "id": "ffd302ba-a99c-4aac-adbb-cd4eb5bdbbff",
   "metadata": {},
   "source": [
    "1) string\n",
    "2)string\n",
    "3)List\n",
    "4)Float"
   ]
  },
  {
   "cell_type": "markdown",
   "id": "c3397c66-18b8-4c7d-bebc-21c270f9885d",
   "metadata": {},
   "source": [
    "Solution 3"
   ]
  },
  {
   "cell_type": "markdown",
   "id": "9ea4f96a-8b74-4d79-b963-bef4ba46e1bf",
   "metadata": {},
   "source": [
    "1) / => it is used to divide two numbers"
   ]
  },
  {
   "cell_type": "code",
   "execution_count": 6,
   "id": "e21799ab-1ef2-4e14-9d95-9ae7880e87d8",
   "metadata": {},
   "outputs": [
    {
     "name": "stdout",
     "output_type": "stream",
     "text": [
      "2.0\n"
     ]
    }
   ],
   "source": [
    "#Example \n",
    "a=4\n",
    "b=2\n",
    "c=a/b\n",
    "print(c)"
   ]
  },
  {
   "cell_type": "markdown",
   "id": "fdacd942-6610-4bb1-82bc-cdb6312b0d6c",
   "metadata": {},
   "source": [
    "2- % => % is used to get remainder of two numbers\n"
   ]
  },
  {
   "cell_type": "code",
   "execution_count": 1,
   "id": "8cbf991f-0159-4707-9727-814134c743cd",
   "metadata": {},
   "outputs": [
    {
     "name": "stdout",
     "output_type": "stream",
     "text": [
      "0\n"
     ]
    }
   ],
   "source": [
    "#Example \n",
    "a=4\n",
    "b=2\n",
    "c=4%2\n",
    "print(c)"
   ]
  },
  {
   "cell_type": "markdown",
   "id": "da399a6d-81f2-4754-bbce-57f2d3a46b5d",
   "metadata": {},
   "source": [
    "3 - // => floor division => used to divide two numbers and quotient rounded up to the nearest value "
   ]
  },
  {
   "cell_type": "code",
   "execution_count": 2,
   "id": "d24ceb52-1f26-4023-a350-099cb7e8fa0a",
   "metadata": {},
   "outputs": [
    {
     "name": "stdout",
     "output_type": "stream",
     "text": [
      "6\n"
     ]
    }
   ],
   "source": [
    "a=20\n",
    "b=3\n",
    "c=a//b \n",
    "print(c)\n"
   ]
  },
  {
   "cell_type": "markdown",
   "id": "62260716-1dc9-4da7-bf37-c7ebf4c406e8",
   "metadata": {},
   "source": [
    "4 - ** => to get the exponent "
   ]
  },
  {
   "cell_type": "code",
   "execution_count": 3,
   "id": "9137fec2-5bf5-47a0-b677-32fefd823f8b",
   "metadata": {},
   "outputs": [
    {
     "name": "stdout",
     "output_type": "stream",
     "text": [
      "16\n"
     ]
    }
   ],
   "source": [
    "a=4\n",
    "b=2\n",
    "c=a**b\n",
    "print(c)"
   ]
  },
  {
   "cell_type": "markdown",
   "id": "1ae4bd7a-7404-4659-bd12-8f8e6997aee1",
   "metadata": {},
   "source": [
    "Solution - 4 "
   ]
  },
  {
   "cell_type": "code",
   "execution_count": 1,
   "id": "8c18005a-d94c-4199-bf4a-d4826780874b",
   "metadata": {},
   "outputs": [
    {
     "name": "stdout",
     "output_type": "stream",
     "text": [
      "10 <class 'int'>\n",
      "Hello <class 'str'>\n",
      "3.14 <class 'float'>\n",
      "True <class 'bool'>\n",
      "[1, 2, 3] <class 'list'>\n",
      "{'name': 'John', 'age': 25} <class 'dict'>\n",
      "None <class 'NoneType'>\n",
      "(1, 2, 3) <class 'tuple'>\n",
      "5.5 <class 'float'>\n",
      "False <class 'bool'>\n"
     ]
    }
   ],
   "source": [
    "my_list = [10, \"Hello\", 3.14, True, [1, 2, 3], {\"name\": \"John\", \"age\": 25}, None, (1, 2, 3), 5.5, False]\n",
    "\n",
    "for item in my_list:\n",
    "    print(item, type(item))\n"
   ]
  },
  {
   "cell_type": "markdown",
   "id": "a4e72e50-1891-4236-a265-a485fa74b55b",
   "metadata": {},
   "source": [
    "Solution - 5"
   ]
  },
  {
   "cell_type": "code",
   "execution_count": 2,
   "id": "f59f5545-b3e4-464c-ac5c-0a4d58125507",
   "metadata": {},
   "outputs": [
    {
     "name": "stdin",
     "output_type": "stream",
     "text": [
      "Enter the number A:  5\n",
      "Enter the number B:  2\n"
     ]
    },
    {
     "name": "stdout",
     "output_type": "stream",
     "text": [
      "Number A is not divisible by number B.\n"
     ]
    }
   ],
   "source": [
    "A = int(input(\"Enter the number A: \"))\n",
    "B = int(input(\"Enter the number B: \"))\n",
    "\n",
    "count = 0\n",
    "\n",
    "while A % B == 0:\n",
    "    A = A / B\n",
    "    count += 1\n",
    "\n",
    "if count > 0:\n",
    "    print(\"Number A is divisible by number B.\")\n",
    "    print(\"It can be divided\", count, \"times.\")\n",
    "else:\n",
    "    print(\"Number A is not divisible by number B.\")"
   ]
  },
  {
   "cell_type": "markdown",
   "id": "063ca869-3974-4f44-9a10-ea0c0a99a441",
   "metadata": {},
   "source": [
    "Solution - 6"
   ]
  },
  {
   "cell_type": "code",
   "execution_count": 3,
   "id": "512aa4d7-613b-4d0d-a79c-7739ad033c82",
   "metadata": {},
   "outputs": [
    {
     "name": "stdout",
     "output_type": "stream",
     "text": [
      "9 is divisible by 3\n",
      "12 is divisible by 3\n",
      "17 is not divisible by 3\n",
      "21 is divisible by 3\n",
      "25 is not divisible by 3\n",
      "30 is divisible by 3\n",
      "33 is divisible by 3\n",
      "37 is not divisible by 3\n",
      "42 is divisible by 3\n",
      "45 is divisible by 3\n",
      "50 is not divisible by 3\n",
      "53 is not divisible by 3\n",
      "57 is divisible by 3\n",
      "60 is divisible by 3\n",
      "64 is not divisible by 3\n",
      "68 is not divisible by 3\n",
      "71 is not divisible by 3\n",
      "75 is divisible by 3\n",
      "80 is not divisible by 3\n",
      "84 is divisible by 3\n",
      "88 is not divisible by 3\n",
      "92 is not divisible by 3\n",
      "96 is divisible by 3\n",
      "99 is divisible by 3\n",
      "103 is not divisible by 3\n"
     ]
    }
   ],
   "source": [
    "my_list = [9, 12, 17, 21, 25, 30, 33, 37, 42, 45, 50, 53, 57, 60, 64, 68, 71, 75, 80, 84, 88, 92, 96, 99, 103]\n",
    "\n",
    "for num in my_list:\n",
    "    if num % 3 == 0:\n",
    "        print(num, \"is divisible by 3\")\n",
    "    else:\n",
    "        print(num, \"is not divisible by 3\")\n"
   ]
  },
  {
   "cell_type": "markdown",
   "id": "31564ffd-145e-4425-865b-6c1397c13b8f",
   "metadata": {},
   "source": [
    "Solution - 7 "
   ]
  },
  {
   "cell_type": "markdown",
   "id": "6a4ea3c2-b9d8-496f-b79f-588a44bbd1a2",
   "metadata": {},
   "source": [
    "Mutable objects re those objects which can change or modify while immutable objects re those objects which can't change or modified. \n",
    "Example of Mutable object = List, set, dict \n",
    "Example of Immutable object = Integer, string, tuple "
   ]
  },
  {
   "cell_type": "code",
   "execution_count": 5,
   "id": "a7acf034-f7f3-4612-a884-89dbd43f6a0e",
   "metadata": {},
   "outputs": [
    {
     "name": "stdout",
     "output_type": "stream",
     "text": [
      "[1, 2, 3, 4]\n"
     ]
    }
   ],
   "source": [
    "#Example of mutable object \n",
    "l= [1,2,3]\n",
    "l1=l.append(4)\n",
    "print(l)"
   ]
  },
  {
   "cell_type": "code",
   "execution_count": 8,
   "id": "bed91cc9-7c7f-4e47-8cbd-82c99d4f2ca2",
   "metadata": {},
   "outputs": [
    {
     "ename": "TypeError",
     "evalue": "'tuple' object does not support item assignment",
     "output_type": "error",
     "traceback": [
      "\u001b[0;31m---------------------------------------------------------------------------\u001b[0m",
      "\u001b[0;31mTypeError\u001b[0m                                 Traceback (most recent call last)",
      "Cell \u001b[0;32mIn[8], line 6\u001b[0m\n\u001b[1;32m      3\u001b[0m tuple2 \u001b[38;5;241m=\u001b[39m tuple1\n\u001b[1;32m      5\u001b[0m \u001b[38;5;66;03m# Trying to modify the tuple will result in an error\u001b[39;00m\n\u001b[0;32m----> 6\u001b[0m \u001b[43mtuple1\u001b[49m\u001b[43m[\u001b[49m\u001b[38;5;241;43m0\u001b[39;49m\u001b[43m]\u001b[49m \u001b[38;5;241m=\u001b[39m \u001b[38;5;241m5\u001b[39m\n\u001b[1;32m      7\u001b[0m \u001b[38;5;28mprint\u001b[39m(tuple1)\n",
      "\u001b[0;31mTypeError\u001b[0m: 'tuple' object does not support item assignment"
     ]
    }
   ],
   "source": [
    "#Example of immutable object \n",
    "tuple1 = (1, 2, 3)\n",
    "tuple2 = tuple1\n",
    "\n",
    "# Trying to modify the tuple will result in an error\n",
    "tuple1[0] = 5\n",
    "print(tuple1)"
   ]
  },
  {
   "cell_type": "code",
   "execution_count": null,
   "id": "e70de0ac-9618-4e7e-80d6-4640f686dcc1",
   "metadata": {},
   "outputs": [],
   "source": []
  }
 ],
 "metadata": {
  "kernelspec": {
   "display_name": "Python 3 (ipykernel)",
   "language": "python",
   "name": "python3"
  },
  "language_info": {
   "codemirror_mode": {
    "name": "ipython",
    "version": 3
   },
   "file_extension": ".py",
   "mimetype": "text/x-python",
   "name": "python",
   "nbconvert_exporter": "python",
   "pygments_lexer": "ipython3",
   "version": "3.10.8"
  }
 },
 "nbformat": 4,
 "nbformat_minor": 5
}
