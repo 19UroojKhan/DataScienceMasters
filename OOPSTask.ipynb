{
 "cells": [
  {
   "cell_type": "markdown",
   "id": "47cd6d33-2444-4d13-a9f5-6e37ed505406",
   "metadata": {},
   "source": [
    "Q1- Create a vehicle class with an init method having instance variables as name_of_vehicle, max_speed\n",
    "and average_of_vehicle."
   ]
  },
  {
   "cell_type": "code",
   "execution_count": 1,
   "id": "b63dc370-67cb-4f67-aafc-6491c30d7892",
   "metadata": {},
   "outputs": [
    {
     "name": "stdout",
     "output_type": "stream",
     "text": [
      "Name: Toyoto\n",
      "Max Speed: 20 km/h\n",
      "Average: 30 mpg\n"
     ]
    }
   ],
   "source": [
    "class Vehicle:\n",
    "    def __init__(self, name_of_vehicle, max_speed, avg_vehicle):\n",
    "        self.name_of_vehicle=name_of_vehicle\n",
    "        self.max_speed=max_speed\n",
    "        self.avg_vehicle=avg_vehicle\n",
    "        \n",
    "car=Vehicle(\"Toyoto\", 20,30)\n",
    "\n",
    "print(f\"Name: {car.name_of_vehicle}\")\n",
    "print(f\"Max Speed: {car.max_speed} km/h\")\n",
    "print(f\"Average: {car.avg_vehicle} mpg\")\n"
   ]
  },
  {
   "cell_type": "markdown",
   "id": "3a4b3116-d766-4d89-a06b-29eb13856980",
   "metadata": {},
   "source": [
    "Q.2 > Create a child class car from the vehicle class created in Que 1, which will inherit the vehicle class.\n",
    "Create a method named seating_capacity which takes capacity as an argument and returns the name of\n",
    "the vehicle and its seating capacity."
   ]
  },
  {
   "cell_type": "code",
   "execution_count": 7,
   "id": "0456bc85-4d42-4f4c-b4c8-5e33643efc78",
   "metadata": {},
   "outputs": [
    {
     "name": "stdout",
     "output_type": "stream",
     "text": [
      "Name: Toyota\n",
      "Max Speed: 200 km/h\n",
      "Average: 30 mpg\n",
      "Capacity: Toyota has a seating capacity of 7 people\n"
     ]
    }
   ],
   "source": [
    "class Vehicle:\n",
    "    def __init__(self, name_of_vehicle, max_speed, avg_vehicle):\n",
    "        self.name_of_vehicle = name_of_vehicle\n",
    "        self.max_speed = max_speed\n",
    "        self.avg_vehicle = avg_vehicle\n",
    "\n",
    "class Car(Vehicle):\n",
    "    def seatingcapacity(self, capacity):\n",
    "        return f\"{self.name_of_vehicle} has a seating capacity of {capacity} people\"\n",
    "\n",
    "car = Car(\"Toyota\", 200, 30)  \n",
    "\n",
    "print(f\"Name: {car.name_of_vehicle}\")\n",
    "print(f\"Max Speed: {car.max_speed} km/h\")\n",
    "print(f\"Average: {car.avg_vehicle} mpg\")\n",
    "print(f\"Capacity: {car.seatingcapacity(capacity)}\") \n"
   ]
  },
  {
   "cell_type": "markdown",
   "id": "23d83a1a-a4ee-4c51-9fb5-70ebae7dc8ff",
   "metadata": {},
   "source": [
    "Q3. What is multiple inheritance? Write a python code to demonstrate multiple inheritance."
   ]
  },
  {
   "cell_type": "markdown",
   "id": "e6e43ad5-439d-411e-9933-9d31773531b6",
   "metadata": {},
   "source": [
    "Multiple inheritance is that where a class inherit attributes and behaviour by more than one parent class"
   ]
  },
  {
   "cell_type": "code",
   "execution_count": 8,
   "id": "32c25a96-1afb-445e-9d69-f3a869eef172",
   "metadata": {},
   "outputs": [
    {
     "name": "stdout",
     "output_type": "stream",
     "text": [
      "Method 1 from Parent1\n",
      "Method 2 from Parent2\n",
      "Method 3 from Child\n"
     ]
    }
   ],
   "source": [
    "#example of multiple level inheritance \n",
    "class dog1:\n",
    "    def method1(self):\n",
    "        print(\"Method 1 from Parent1\")\n",
    "class dog2:\n",
    "    def method2(self):\n",
    "        print(\"Method 2 from Parent2\")\n",
    "\n",
    "class Child(dog1, dog2):\n",
    "    def method3(self):\n",
    "        print(\"Method 3 from Child\")\n",
    "\n",
    "child = Child()\n",
    "\n",
    "child.method1()\n",
    "child.method2()\n",
    "child.method3()\n"
   ]
  },
  {
   "cell_type": "markdown",
   "id": "dabc321a-62ab-483d-ad31-406ea41d4430",
   "metadata": {},
   "source": [
    "Q.4 > What are getter and setter in python? Create a class and create a getter and a setter method in this\n",
    "class."
   ]
  },
  {
   "cell_type": "markdown",
   "id": "870c4fcd-454f-4393-af0c-d7d9253797aa",
   "metadata": {},
   "source": [
    "Getter and Setter \n",
    "Getter :  used to access the attribute's value from outside the class.\n",
    "Setter : used to modify the attribute's value from outside the class by process\n"
   ]
  },
  {
   "cell_type": "code",
   "execution_count": 13,
   "id": "dfdc5e7e-98c0-402c-bca4-347170978b22",
   "metadata": {},
   "outputs": [
    {
     "name": "stdout",
     "output_type": "stream",
     "text": [
      "Name: tina\n",
      "Age: 23\n",
      "Updated Name: Tanya\n",
      "Updated Age: 25\n"
     ]
    }
   ],
   "source": [
    "class Candidate:\n",
    "    def __init__(self, name, age):\n",
    "        self._name = name  \n",
    "        self._age = age\n",
    "\n",
    " \n",
    "    def get_name(self):\n",
    "        return self._name\n",
    "\n",
    "    \n",
    "    def set_name(self, new_name):\n",
    "        self._name = new_name\n",
    "\n",
    " \n",
    "    def get_age(self):\n",
    "        return self._age\n",
    "\n",
    "    \n",
    "    def set_age(self, new_age):\n",
    "        if new_age >= 0:\n",
    "            self._age = new_age\n",
    "        else:\n",
    "            print(\"Age cannot be negative.\")\n",
    "\n",
    "\n",
    "candidate = Candidate(\"tina\", 23)\n",
    "\n",
    "print(\"Name:\", candidate.get_name())\n",
    "print(\"Age:\", candidate.get_age())\n",
    "\n",
    "candidate.set_name(\"Tanya\")\n",
    "candidate.set_age(25)\n",
    "\n",
    "print(\"Updated Name:\", candidate.get_name())\n",
    "print(\"Updated Age:\", candidate.get_age())\n"
   ]
  },
  {
   "cell_type": "code",
   "execution_count": null,
   "id": "80a70ef1-94e1-41ab-bc94-be7a3ebe7507",
   "metadata": {},
   "outputs": [],
   "source": [
    "Q5.What is method overriding in python? Write a python code to demonstrate method overriding."
   ]
  },
  {
   "cell_type": "markdown",
   "id": "cb0c56de-65cf-432c-8bb2-1770a021a236",
   "metadata": {},
   "source": [
    "Multiple function with the same name and same number of attributes = Method overiding(TO MODIFY EXISTING BEHAVIOUR)\n",
    "Func can be called with different number of arguments = Method Overloading (same method but diff no of arguments/ diff task/diff behaviour)\n"
   ]
  },
  {
   "cell_type": "code",
   "execution_count": 3,
   "id": "9dcd4724-a5ce-46a6-9699-bc3c73a91225",
   "metadata": {},
   "outputs": [
    {
     "name": "stdout",
     "output_type": "stream",
     "text": [
      "multi 200\n"
     ]
    }
   ],
   "source": [
    "#METHOD OVERIDING \n",
    "class Add:\n",
    "    def result(self,a,b):\n",
    "        print(\"addition\", a+b)\n",
    "        \n",
    "class Multi:\n",
    "    def result(self, a, b):\n",
    "        print(\"multi\", a*b)\n",
    "\n",
    "m=Multi()\n",
    "m.result(10,20)"
   ]
  },
  {
   "cell_type": "code",
   "execution_count": 13,
   "id": "42deb8ef-83f2-4d73-8f65-d2c4e8cc3957",
   "metadata": {},
   "outputs": [
    {
     "ename": "TypeError",
     "evalue": "Addition.add() missing 1 required positional argument: 'n3'",
     "output_type": "error",
     "traceback": [
      "\u001b[0;31m---------------------------------------------------------------------------\u001b[0m",
      "\u001b[0;31mTypeError\u001b[0m                                 Traceback (most recent call last)",
      "Cell \u001b[0;32mIn[13], line 12\u001b[0m\n\u001b[1;32m      7\u001b[0m         \u001b[38;5;28mprint\u001b[39m(\u001b[38;5;124m\"\u001b[39m\u001b[38;5;124madd\u001b[39m\u001b[38;5;124m\"\u001b[39m, n1\u001b[38;5;241m+\u001b[39mn2\u001b[38;5;241m+\u001b[39mn3)\n\u001b[1;32m     11\u001b[0m a\u001b[38;5;241m=\u001b[39mAddition()\n\u001b[0;32m---> 12\u001b[0m \u001b[43ma\u001b[49m\u001b[38;5;241;43m.\u001b[39;49m\u001b[43madd\u001b[49m\u001b[43m(\u001b[49m\u001b[38;5;241;43m10\u001b[39;49m\u001b[43m,\u001b[49m\u001b[38;5;241;43m20\u001b[39;49m\u001b[43m)\u001b[49m\n\u001b[1;32m     13\u001b[0m a\u001b[38;5;241m.\u001b[39madd(\u001b[38;5;241m10\u001b[39m,\u001b[38;5;241m20\u001b[39m,\u001b[38;5;241m30\u001b[39m)\n",
      "\u001b[0;31mTypeError\u001b[0m: Addition.add() missing 1 required positional argument: 'n3'"
     ]
    }
   ],
   "source": [
    "#METHOD OVERLOADING / polymorphism (not in python)\n",
    "class Addition:\n",
    "    def add(self,n1,n2):\n",
    "        print(\"addition\", n1+n2)\n",
    "    \n",
    "    def add(self,n1,n2,n3):\n",
    "        print(\"add\", n1+n2+n3)\n",
    "    \n",
    "\n",
    "    \n",
    "a=Addition()\n",
    "#a.add(10,20)\n",
    "a.add(10,20,30)\n",
    "\n",
    "#last method ca\n",
    "        \n",
    "    "
   ]
  },
  {
   "cell_type": "code",
   "execution_count": 9,
   "id": "04ec21e5-a262-4eaf-94cc-ad3cf2d0f36a",
   "metadata": {},
   "outputs": [
    {
     "name": "stdout",
     "output_type": "stream",
     "text": [
      "None\n"
     ]
    }
   ],
   "source": []
  },
  {
   "cell_type": "code",
   "execution_count": null,
   "id": "b37a6903-2f59-4048-becc-9ab590e235fb",
   "metadata": {},
   "outputs": [],
   "source": []
  }
 ],
 "metadata": {
  "kernelspec": {
   "display_name": "Python 3 (ipykernel)",
   "language": "python",
   "name": "python3"
  },
  "language_info": {
   "codemirror_mode": {
    "name": "ipython",
    "version": 3
   },
   "file_extension": ".py",
   "mimetype": "text/x-python",
   "name": "python",
   "nbconvert_exporter": "python",
   "pygments_lexer": "ipython3",
   "version": "3.10.8"
  }
 },
 "nbformat": 4,
 "nbformat_minor": 5
}
